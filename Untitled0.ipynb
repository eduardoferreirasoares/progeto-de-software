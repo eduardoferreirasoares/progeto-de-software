{
  "cells": [
    {
      "cell_type": "markdown",
      "metadata": {
        "id": "view-in-github",
        "colab_type": "text"
      },
      "source": [
        "<a href=\"https://colab.research.google.com/github/eduardoferreirasoares/progeto-de-software/blob/main/Untitled0.ipynb\" target=\"_parent\"><img src=\"https://colab.research.google.com/assets/colab-badge.svg\" alt=\"Open In Colab\"/></a>"
      ]
    },
    {
      "cell_type": "code",
      "execution_count": 43,
      "metadata": {
        "id": "rQFGEy-RpB6D",
        "colab": {
          "base_uri": "https://localhost:8080/",
          "height": 356
        },
        "outputId": "6e00dc9d-cb7d-43f2-f998-bc6b2499f827"
      },
      "outputs": [
        {
          "output_type": "error",
          "ename": "KeyboardInterrupt",
          "evalue": "Interrupted by user",
          "traceback": [
            "\u001b[0;31m---------------------------------------------------------------------------\u001b[0m",
            "\u001b[0;31mKeyboardInterrupt\u001b[0m                         Traceback (most recent call last)",
            "\u001b[0;32m/tmp/ipython-input-1542372111.py\u001b[0m in \u001b[0;36m<cell line: 0>\u001b[0;34m()\u001b[0m\n\u001b[1;32m      6\u001b[0m     \u001b[0;32mwhile\u001b[0m \u001b[0;32mTrue\u001b[0m\u001b[0;34m:\u001b[0m\u001b[0;34m\u001b[0m\u001b[0;34m\u001b[0m\u001b[0m\n\u001b[1;32m      7\u001b[0m         \u001b[0;31m# a classificacao fazer pergunta do filme classificao de 1 a 5 ou 0 para parar\u001b[0m\u001b[0;34m\u001b[0m\u001b[0;34m\u001b[0m\u001b[0m\n\u001b[0;32m----> 8\u001b[0;31m         \u001b[0mclassificacao\u001b[0m \u001b[0;34m=\u001b[0m \u001b[0minput\u001b[0m\u001b[0;34m(\u001b[0m\u001b[0;34mf\"Filme {filme} - Classificação de 1 a 5 (ou 0 para parar): \"\u001b[0m\u001b[0;34m)\u001b[0m\u001b[0;34m\u001b[0m\u001b[0;34m\u001b[0m\u001b[0m\n\u001b[0m\u001b[1;32m      9\u001b[0m         \u001b[0;31m#se a classificacao e semelhante a 0\u001b[0m\u001b[0;34m\u001b[0m\u001b[0;34m\u001b[0m\u001b[0m\n\u001b[1;32m     10\u001b[0m         \u001b[0;32mif\u001b[0m \u001b[0mclassificacao\u001b[0m \u001b[0;34m==\u001b[0m \u001b[0;34m\"0\"\u001b[0m\u001b[0;34m:\u001b[0m\u001b[0;34m\u001b[0m\u001b[0;34m\u001b[0m\u001b[0m\n",
            "\u001b[0;32m/usr/local/lib/python3.12/dist-packages/ipykernel/kernelbase.py\u001b[0m in \u001b[0;36mraw_input\u001b[0;34m(self, prompt)\u001b[0m\n\u001b[1;32m   1175\u001b[0m                 \u001b[0;34m\"raw_input was called, but this frontend does not support input requests.\"\u001b[0m\u001b[0;34m\u001b[0m\u001b[0;34m\u001b[0m\u001b[0m\n\u001b[1;32m   1176\u001b[0m             )\n\u001b[0;32m-> 1177\u001b[0;31m         return self._input_request(\n\u001b[0m\u001b[1;32m   1178\u001b[0m             \u001b[0mstr\u001b[0m\u001b[0;34m(\u001b[0m\u001b[0mprompt\u001b[0m\u001b[0;34m)\u001b[0m\u001b[0;34m,\u001b[0m\u001b[0;34m\u001b[0m\u001b[0;34m\u001b[0m\u001b[0m\n\u001b[1;32m   1179\u001b[0m             \u001b[0mself\u001b[0m\u001b[0;34m.\u001b[0m\u001b[0m_parent_ident\u001b[0m\u001b[0;34m[\u001b[0m\u001b[0;34m\"shell\"\u001b[0m\u001b[0;34m]\u001b[0m\u001b[0;34m,\u001b[0m\u001b[0;34m\u001b[0m\u001b[0;34m\u001b[0m\u001b[0m\n",
            "\u001b[0;32m/usr/local/lib/python3.12/dist-packages/ipykernel/kernelbase.py\u001b[0m in \u001b[0;36m_input_request\u001b[0;34m(self, prompt, ident, parent, password)\u001b[0m\n\u001b[1;32m   1217\u001b[0m             \u001b[0;32mexcept\u001b[0m \u001b[0mKeyboardInterrupt\u001b[0m\u001b[0;34m:\u001b[0m\u001b[0;34m\u001b[0m\u001b[0;34m\u001b[0m\u001b[0m\n\u001b[1;32m   1218\u001b[0m                 \u001b[0;31m# re-raise KeyboardInterrupt, to truncate traceback\u001b[0m\u001b[0;34m\u001b[0m\u001b[0;34m\u001b[0m\u001b[0m\n\u001b[0;32m-> 1219\u001b[0;31m                 \u001b[0;32mraise\u001b[0m \u001b[0mKeyboardInterrupt\u001b[0m\u001b[0;34m(\u001b[0m\u001b[0;34m\"Interrupted by user\"\u001b[0m\u001b[0;34m)\u001b[0m \u001b[0;32mfrom\u001b[0m \u001b[0;32mNone\u001b[0m\u001b[0;34m\u001b[0m\u001b[0;34m\u001b[0m\u001b[0m\n\u001b[0m\u001b[1;32m   1220\u001b[0m             \u001b[0;32mexcept\u001b[0m \u001b[0mException\u001b[0m\u001b[0;34m:\u001b[0m\u001b[0;34m\u001b[0m\u001b[0;34m\u001b[0m\u001b[0m\n\u001b[1;32m   1221\u001b[0m                 \u001b[0mself\u001b[0m\u001b[0;34m.\u001b[0m\u001b[0mlog\u001b[0m\u001b[0;34m.\u001b[0m\u001b[0mwarning\u001b[0m\u001b[0;34m(\u001b[0m\u001b[0;34m\"Invalid Message:\"\u001b[0m\u001b[0;34m,\u001b[0m \u001b[0mexc_info\u001b[0m\u001b[0;34m=\u001b[0m\u001b[0;32mTrue\u001b[0m\u001b[0;34m)\u001b[0m\u001b[0;34m\u001b[0m\u001b[0;34m\u001b[0m\u001b[0m\n",
            "\u001b[0;31mKeyboardInterrupt\u001b[0m: Interrupted by user"
          ]
        }
      ],
      "source": [
        "filmes = (1, 2, 3, 4)\n",
        "\n",
        "# para cada filme na lista de filmes\n",
        "for filme in filmes:\n",
        "    # repita em quanto for verdadeiro\n",
        "    while True:\n",
        "        # a classificacao fazer pergunta do filme classificao de 1 a 5 ou 0 para parar\n",
        "        classificacao = input(f\"Filme {filme} - Classificação de 1 a 5 (ou 0 para parar): \")\n",
        "        #se a classificacao e semelhante a 0\n",
        "        if classificacao == \"0\":\n",
        "            #descrever classificacao para o filme interrompida\n",
        "            print(f\"Classificação para o Filme {filme} interrompida.\")\n",
        "            break  # encerra o loop interno\n",
        "        #tente:\n",
        "        try:\n",
        "            # converte a variável em um número inteiro\n",
        "            classificacao = int(classificacao)\n",
        "            # se a classificação for menor ou maior que 5\n",
        "            if 1 <= classificacao or classificacao > 5:\n",
        "                #descreva o filme classificado com a classificação estrela\n",
        "                print(f\"Filme {filme} classificado com {classificacao} estrelas.\")\n",
        "                break  # saida do loop interno\n",
        "            #se não\n",
        "            else:\n",
        "                #descreva a classificação inválida\n",
        "                print(\"Classificação inválida. Por favor, digite um número entre 1 e 5.\")\n",
        "        # quando uma exceção\n",
        "        except ValueError:\n",
        "            # descrever entrada inválida\n",
        "            print(\"Entrada inválida. Por favor, digite um número.\")"
      ]
    },
    {
      "cell_type": "code",
      "source": [
        "# lista de numeros\n",
        "numeros =(1.0,2.75,3.8)\n",
        "comprimento = len(\"numero\")\n",
        "print(f\"o comprimento da lista(comprimento)\")\n"
      ],
      "metadata": {
        "id": "RHYYnji63H8z"
      },
      "execution_count": null,
      "outputs": []
    },
    {
      "cell_type": "code",
      "source": [
        "from re import A\n",
        "# definimdo uma funçao chamada (soma)\n",
        "def soma(a,b):\n",
        " resultado= a+b\n",
        " return resultado\n",
        "# chamando a função e armazenando o resultado e uma variável\n",
        "resultado_soma=soma(4,6)\n",
        "# descrevendo o resultado\n",
        "print(resultado_soma)\n",
        "\n"
      ],
      "metadata": {
        "id": "yn0Gsqbs5oS6",
        "colab": {
          "base_uri": "https://localhost:8080/"
        },
        "outputId": "8c1e6bb1-7782-4422-fb1a-4b931886dafd"
      },
      "execution_count": 44,
      "outputs": [
        {
          "output_type": "stream",
          "name": "stdout",
          "text": [
            "10\n"
          ]
        }
      ]
    },
    {
      "cell_type": "code",
      "source": [
        "# definindo uma função chamada\"e_par\"\n",
        "def e_par(numero):\n",
        "  #se o numero for dividido 2 e tem resto 0 entao e par\n",
        "  if numero % 2==0:\n",
        "    return true\n",
        "  else:\n",
        "    return False\n",
        "\n"
      ],
      "metadata": {
        "id": "WRZmo4O2C-jv"
      },
      "execution_count": 46,
      "outputs": []
    },
    {
      "cell_type": "code",
      "source": [
        "# definindo uma função chamada\"e_par\"\n",
        "def e_par(numero):\n",
        "  #se o numero for dividido 2 e tem resto 0 entao e par\n",
        "  if numero %2==0:\n",
        "    return True\n",
        "  else:\n",
        "    return False\n",
        "    # teste da função\n",
        "    numero=(1231243243546465)\n",
        "    if e_par(numero):\n",
        "     print(f\"(numero)e um numero par.\")\n",
        "    else:\n",
        "     print(f\"(numero)e um numero impar.\")\n"
      ],
      "metadata": {
        "id": "-gQCRe4VFHdb"
      },
      "execution_count": 47,
      "outputs": []
    }
  ],
  "metadata": {
    "colab": {
      "provenance": [],
      "include_colab_link": true
    },
    "kernelspec": {
      "display_name": "Python 3",
      "name": "python3"
    },
    "language_info": {
      "name": "python"
    }
  },
  "nbformat": 4,
  "nbformat_minor": 0
}